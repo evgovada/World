{
 "cells": [
  {
   "cell_type": "markdown",
   "metadata": {},
   "source": [
    "# Differences between Git and Github:"
   ]
  },
  {
   "cell_type": "markdown",
   "metadata": {},
   "source": [
    "\n",
    "Git is mainly concerned with Version Control. Git is a software that keeps track of all the history of all your code and changes made over time while working on, on your PC. It also has these features that enables collaboration and give freedom for two or more people to work on the same project together.\n",
    "Git is actual version control software. While Github is a web service where we can have an account an apply or run Git in it. \n"
   ]
  },
  {
   "cell_type": "markdown",
   "metadata": {},
   "source": [
    "Github basically runs the Git software. So the projects that are done through Git can be run on Github in a collaborative way. We can create repositories or projects or files. This can be done by uploading our files on to the repository. This displays all our code that we have been working on and others can see it or work on it. This really a great tool for teams in the company to effectively work on their projects. "
   ]
  },
  {
   "cell_type": "markdown",
   "metadata": {},
   "source": [
    " A screen shot of the repositories I have created is submitted s lab4. This displays all the uploaded files when clicked on them."
   ]
  }
 ],
 "metadata": {
  "kernelspec": {
   "display_name": "Python 3",
   "language": "python",
   "name": "python3"
  },
  "language_info": {
   "codemirror_mode": {
    "name": "ipython",
    "version": 3
   },
   "file_extension": ".py",
   "mimetype": "text/x-python",
   "name": "python",
   "nbconvert_exporter": "python",
   "pygments_lexer": "ipython3",
   "version": "3.7.3"
  }
 },
 "nbformat": 4,
 "nbformat_minor": 2
}
